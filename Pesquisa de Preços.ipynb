{
 "cells": [
  {
   "cell_type": "markdown",
   "metadata": {},
   "source": [
    "IMPORTAR BIBLIOTECAS, CRIAR NAVEGADOR E LER BASE DE DADOS"
   ]
  },
  {
   "cell_type": "code",
   "execution_count": null,
   "metadata": {},
   "outputs": [],
   "source": [
    "from selenium import webdriver\n",
    "from selenium.webdriver.common.keys import Keys\n",
    "from selenium.webdriver.common.by import By\n",
    "import pandas as pd\n",
    "import time\n",
    "\n",
    "#Criar navegador\n",
    "nav = webdriver.Chrome()\n",
    "\n",
    "#Importar e ler base de dados\n",
    "tabela_produtos = pd.read_excel('buscas.xlsx')\n",
    "display(tabela_produtos)"
   ]
  },
  {
   "cell_type": "markdown",
   "metadata": {},
   "source": [
    "CRIAR FUNÇÕES DE BUSCA"
   ]
  },
  {
   "cell_type": "code",
   "execution_count": null,
   "metadata": {
    "scrolled": true
   },
   "outputs": [],
   "source": [
    "def busca_google_shopping(nav, produto, termos_banidos, preco_minimo, preco_maximo):\n",
    "    #Tratar variáveis\n",
    "    produto = produto.lower()\n",
    "    termos_banidos = termos_banidos.lower()\n",
    "    lista_termos_banidos = termos_banidos.split(' ')\n",
    "    lista_termos_produto = produto.split(' ')\n",
    "\n",
    "\n",
    "    #Pesquisar nome do produto no Google\n",
    "    nav.get('https://www.google.com')\n",
    "    nav.find_element(By.XPATH, '/html/body/div[1]/div[3]/form/div[1]/div[1]/div[1]/div/div[2]/input').send_keys(produto)\n",
    "    nav.find_element(By.XPATH, '/html/body/div[1]/div[3]/form/div[1]/div[1]/div[1]/div/div[2]/input').send_keys(Keys.ENTER)\n",
    "    #Clicar na aba 'Shopping'\n",
    "    elementos = nav.find_elements(By.CLASS_NAME, 'hdtb-mitem')\n",
    "    for item in elementos:\n",
    "        if 'Shopping' in item.text:\n",
    "            item.click()\n",
    "            break\n",
    "    #Listar resultados da busca do google e pegar nomes, preços e link's\n",
    "    lista_resultados = nav.find_elements(By.CLASS_NAME, 'sh-dgr__grid-result')\n",
    "    lista_ofertas = []\n",
    "    for resultado in lista_resultados:\n",
    "        nome = resultado.find_element(By.CLASS_NAME, 'Xjkr3b').text\n",
    "        nome = nome.lower()\n",
    "\n",
    "        #Verificar nome\n",
    "        tem_termos_banidos = False\n",
    "        for palavra in lista_termos_banidos:\n",
    "            if palavra in nome:\n",
    "                tem_termos_banidos = True\n",
    "\n",
    "        tem_todos_termos_produto = True\n",
    "        for palavra in lista_termos_produto:\n",
    "            if palavra not in nome:\n",
    "                tem_todos_termos_produto = False\n",
    "\n",
    "        if not tem_termos_banidos and tem_todos_termos_produto:\n",
    "            try:\n",
    "                preco = resultado.find_element(By.CLASS_NAME, 'a8Pemb').text\n",
    "                preco = preco.replace('R$','').replace(' ','').replace('.', '').replace(',', '.')\n",
    "                preco = float(preco)\n",
    "                #Verificar se o preço está no intervalo especificado\n",
    "                preco_maximo = float(preco_maximo)\n",
    "                preco_minimo = float(preco_minimo)\n",
    "                if preco_minimo <= preco <= preco_maximo:\n",
    "                    elemento_filho = resultado.find_element(By.CLASS_NAME, 'aULzUe')\n",
    "                    elemento_pai = elemento_filho.find_element(By.XPATH, '..')\n",
    "                    link = elemento_pai.get_attribute('href')\n",
    "                    lista_ofertas.append((nome, preco, link))\n",
    "            except:\n",
    "                continue\n",
    "    return lista_ofertas\n",
    "\n",
    "def busca_buscape(nav, produto, termos_banidos, preco_minimo, preco_maximo):\n",
    "    #Tratar variáveis\n",
    "    produto = produto.lower()\n",
    "    termos_banidos = termos_banidos.lower()\n",
    "    lista_termos_banidos = termos_banidos.split(' ')\n",
    "    lista_termos_produto = produto.split(' ')\n",
    "    \n",
    "    #Pesquisar produto no Buscapé\n",
    "    nav.get('https://www.buscape.com.br')\n",
    "    nav.find_element(By.CLASS_NAME, 'AutoCompleteStyle_textBox__eLv3V').send_keys(produto, Keys.ENTER)\n",
    "    \n",
    "    #Pegar lista de resultados\n",
    "    time.sleep(5)\n",
    "    lista_resultados = nav.find_elements(By.CLASS_NAME, 'Cell_Content__fT5st')\n",
    "    \n",
    "    #Para cada resultado\n",
    "    lista_ofertas = []\n",
    "    for resultado in lista_resultados:\n",
    "        nome = resultado.get_attribute('title')\n",
    "        nome = nome.lower()\n",
    "        preco = resultado.find_element(By.CLASS_NAME, 'CellPrice_MainValue__JXsj_').text\n",
    "        link = resultado.get_attribute('href')\n",
    "        \n",
    "        #Verificar nome\n",
    "        tem_termos_banidos = False\n",
    "        for palavra in lista_termos_banidos:\n",
    "            if palavra in nome:\n",
    "                tem_termos_banidos = True\n",
    "                \n",
    "        tem_todos_termos_produto = True\n",
    "        for palavra in lista_termos_produto:\n",
    "            if palavra not in nome:\n",
    "                tem_todos_termos_produto = False\n",
    "        \n",
    "        if not tem_termos_banidos and tem_todos_termos_produto:\n",
    "            preco = preco.replace('R$', '').replace(' ', '').replace('.', ''). replace(',', '.')\n",
    "            preco = float(preco)\n",
    "            \n",
    "            #Verificar se o preço está dentro do intervalo\n",
    "            preco_maximo = float(preco_maximo)\n",
    "            preco_minimo = float(preco_minimo)\n",
    "            if preco_minimo <= preco <= preco_maximo:\n",
    "                lista_ofertas.append((nome, preco, link))\n",
    "    return lista_ofertas"
   ]
  },
  {
   "cell_type": "markdown",
   "metadata": {},
   "source": [
    "CONSTRUIR LISTA OFERTAS"
   ]
  },
  {
   "cell_type": "code",
   "execution_count": null,
   "metadata": {},
   "outputs": [],
   "source": [
    "tabela_ofertas = pd.DataFrame()\n",
    "for linha in tabela_produtos.index:\n",
    "    produto = tabela_produtos.loc[linha, 'Nome']\n",
    "    termos_banidos = tabela_produtos.loc[linha, 'Termos banidos']\n",
    "    preco_minimo = tabela_produtos.loc[linha, 'Preço mínimo']\n",
    "    preco_maximo = tabela_produtos.loc[linha, 'Preço máximo']\n",
    "    lista_ofertas_google_shopping = busca_google_shopping(nav, produto, termos_banidos, preco_minimo, preco_maximo)\n",
    "    if lista_ofertas_google_shopping:\n",
    "        tabela_google_shopping = pd.DataFrame(lista_ofertas_google_shopping, columns=['PRODUTO', 'PRECO', 'LINK'])\n",
    "        tabela_ofertas = tabela_ofertas.append(tabela_google_shopping)\n",
    "    else:\n",
    "        tabela_google_shopping = None\n",
    "    lista_ofertas_buscape = busca_buscape(nav, produto, termos_banidos, preco_minimo, preco_maximo)\n",
    "    if lista_ofertas_buscape:\n",
    "        tabela_buscape = pd.DataFrame(lista_ofertas_buscape, columns=['PRODUTO', 'PRECO', 'LINK'])\n",
    "        tabela_ofertas = tabela_ofertas.append(tabela_buscape)\n",
    "    else:\n",
    "        tabela_buscape = None\n",
    "display(tabela_ofertas)"
   ]
  },
  {
   "cell_type": "markdown",
   "metadata": {},
   "source": [
    "EXPORTAR PARA EXCEL"
   ]
  },
  {
   "cell_type": "code",
   "execution_count": null,
   "metadata": {},
   "outputs": [],
   "source": [
    "tabela_ofertas = tabela_ofertas.reset_index(drop=True)\n",
    "tabela_ofertas.to_excel('Ofertas.xlsx', index=False)"
   ]
  },
  {
   "cell_type": "markdown",
   "metadata": {},
   "source": [
    "ENVIAR EMAIL AUTOMÁTICO"
   ]
  },
  {
   "cell_type": "code",
   "execution_count": null,
   "metadata": {},
   "outputs": [],
   "source": [
    "import smtplib\n",
    "import email.message\n",
    "\n",
    "def enviar_email():  \n",
    "    corpo_email = f\"\"\"\n",
    "    <p>     Boa tarde,</p>\n",
    "    <p>   Segue relatório com as ofertas encontradas:</p>\n",
    "    <p>{tabela_ofertas.to_html(index=False)}</p>\n",
    "    <p>Att.</p>\n",
    "    <p>Anderson F. S. de Oliveira</p>\n",
    "    \"\"\"\n",
    "\n",
    "    msg = email.message.Message()\n",
    "    msg['Subject'] = \"Ofertas Encontradas!\"\n",
    "    msg['From'] = 'email@gmail.com'\n",
    "    msg['To'] = 'email@gmail.com'\n",
    "    password = 'senha_app_google_smtp' \n",
    "    msg.add_header('Content-Type', 'text/html')\n",
    "    msg.set_payload(corpo_email )\n",
    "\n",
    "    s = smtplib.SMTP('smtp.gmail.com: 587')\n",
    "    s.starttls()\n",
    "    # Login Credentials for sending the mail\n",
    "    s.login(msg['From'], password)\n",
    "    s.sendmail(msg['From'], [msg['To']], msg.as_string().encode('utf-8'))\n",
    "    print('Email enviado')"
   ]
  },
  {
   "cell_type": "code",
   "execution_count": null,
   "metadata": {},
   "outputs": [],
   "source": [
    "enviar_email()"
   ]
  }
 ],
 "metadata": {
  "kernelspec": {
   "display_name": "Python 3 (ipykernel)",
   "language": "python",
   "name": "python3"
  },
  "language_info": {
   "codemirror_mode": {
    "name": "ipython",
    "version": 3
   },
   "file_extension": ".py",
   "mimetype": "text/x-python",
   "name": "python",
   "nbconvert_exporter": "python",
   "pygments_lexer": "ipython3",
   "version": "3.9.7"
  }
 },
 "nbformat": 4,
 "nbformat_minor": 4
}
